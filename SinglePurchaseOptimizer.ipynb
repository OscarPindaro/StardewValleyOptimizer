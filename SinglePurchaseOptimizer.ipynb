{
 "cells": [
  {
   "cell_type": "markdown",
   "metadata": {},
   "source": [
    "# Optimizing Stardew Valley Purchases with Linear Programming"
   ]
  },
  {
   "cell_type": "markdown",
   "metadata": {},
   "source": [
    "## Introduction"
   ]
  },
  {
   "cell_type": "markdown",
   "metadata": {},
   "source": [
    "Stardew Valley is a managerial game in which the protagonist is the owner of a farm. Here, far far away from the chaothic city, the player can plant different seeds and harvest all the goods that is able to produce. The player can also manage a ranch or some other activities. <br>\n",
    "While playing, at some point during the game play, in everyone's mind an eternal question popped:<br>\n",
    "\"*How can i become the richest farmer in Pellican Town and marry that hot chick, Leah?*\"<br>\n",
    "\n",
    "In this notebook we will se how to optimize all the purchases that the player will make while buying seed, applying some sweet sweet **Linear Programming**.\n"
   ]
  },
  {
   "cell_type": "markdown",
   "metadata": {},
   "source": [
    "## Modelization\n",
    "In stardew valley, every plant can be bought in an emporium for a given cost. Every crop has a different price and different growing time. When a crop has completed its growing cycle, it can be harvested and sold, generating a revanue.<br>\n",
    "In this context, different resources must be considered.\n",
    "- *money* - Someone said somewhere:\n",
    "    >The person who doesn't know where his next dollar is coming from usually doesn't know where his last dollar went.\n",
    "    >\n",
    "    Of course money is a resource. We have little money, and we want to make a lot of money. The game starts with a very very small amount, and it's our duty to harvest it and become richer and richer (and marry Leah).\n",
    "    \n",
    "- *space* - The space that we have at our disposal in the farm it's not infinite. Every crop will use one tile, and sometimes this space must be sacrified for other objects like scarerows or splinkers. Sadly, every penny in the world is not enough when no space can be used.\n",
    "\n",
    "- *time* - I imagine that somewhere in the internet there's another good quote, but i'm too lazy. In Stardew Calley, time is essential, since every crop needs several days to complete its growth cycle. However, there is another limitation. The year is divided in 4 months of 28 days, one for each season. Every season has a set of allowed plants that can grow; if a green cabbage plant lasts till the end of the spring, it will be atrociously killed by the mighty spears of the summer Sun.\n"
   ]
  },
  {
   "cell_type": "markdown",
   "metadata": {},
   "source": [
    "### Elements of the modelization\n",
    "\n",
    "#### Constants\n",
    "$P$ : the set of all the cultures. $p_{i}$ is the $i$-th crop<br>\n",
    "$N$ : the number of available tiles <br>\n",
    "$D$ : number of days available <br>\n",
    "$M$ : total amount of money available <br>\n",
    "\n",
    "$t_{i}$: time needed by the $i$-th culture to grow <br>\n",
    "$c_{i}$: cost of the $i$-th culture <br>\n",
    "$r_{i}$: revenue of the $i$-th culture <br>\n",
    "\n",
    "$max_{i}$: maximum number of seeds allowed for the culture <br>\n",
    "$min_{i}$: minimum number of seeds allowed for the culture <br>\n",
    "These two can be set to $+\\infty$ and $0$, but can also be used in order to have some diversifiaction. <br>\n",
    "\n",
    "#### Variables\n",
    "$x_{i}$: amount of the $i$-th culture that needs to be purchased. \n",
    "\n",
    "#### Objective function\n",
    "*maximize* $p = \\sum_{i \\in P}r_{i}x_{i} - \\sum_{i \\in P}c_{i}x_{i}$ \n",
    "\n",
    "#### Constaints\n",
    "\n",
    "$\\sum_{i \\in P}x_{i} <= N$ - **tile availablity**; *the number of products cannot exceed the number of plantable tiles*\n",
    "\n",
    "**if** $t_{i} > D \\rightarrow x_{i} = 0$ - **time horizon constraint**; *If there is not enough time for this culture, it should not be planted\n",
    "\n",
    "$\\sum_{i \\in P}c_{i}x_{i} <= M$ - **total cost constraint**; *The total cost cannot exceed the total amount of money owned*\n",
    "\n",
    "$\\forall i \\in P x_{i} >= 0, \\in Natural Numbers$ - *the real problem is integer, but can be relaxed to linear if the amount of money is much larger*"
   ]
  },
  {
   "cell_type": "code",
   "execution_count": 16,
   "metadata": {},
   "outputs": [],
   "source": [
    "from pulp import *"
   ]
  },
  {
   "cell_type": "code",
   "execution_count": 3,
   "metadata": {},
   "outputs": [],
   "source": [
    "x = LpVariable(\"x\", 0, 3)\n",
    "y = LpVariable(\"y\", 0, 1)"
   ]
  },
  {
   "cell_type": "code",
   "execution_count": 5,
   "metadata": {},
   "outputs": [],
   "source": [
    "prob = LpProblem(\"myProblem\", LpMinimize)"
   ]
  },
  {
   "cell_type": "code",
   "execution_count": 6,
   "metadata": {},
   "outputs": [],
   "source": [
    "prob += x + y <= 1"
   ]
  },
  {
   "cell_type": "code",
   "execution_count": 7,
   "metadata": {},
   "outputs": [],
   "source": [
    "prob += -4*x + y"
   ]
  },
  {
   "cell_type": "code",
   "execution_count": 8,
   "metadata": {},
   "outputs": [],
   "source": [
    "status = prob.solve()"
   ]
  },
  {
   "cell_type": "code",
   "execution_count": 9,
   "metadata": {},
   "outputs": [
    {
     "data": {
      "text/plain": [
       "1"
      ]
     },
     "execution_count": 9,
     "metadata": {},
     "output_type": "execute_result"
    }
   ],
   "source": [
    "status"
   ]
  },
  {
   "cell_type": "code",
   "execution_count": 10,
   "metadata": {},
   "outputs": [
    {
     "data": {
      "text/plain": [
       "'Optimal'"
      ]
     },
     "execution_count": 10,
     "metadata": {},
     "output_type": "execute_result"
    }
   ],
   "source": [
    "LpStatus[status]"
   ]
  },
  {
   "cell_type": "code",
   "execution_count": 11,
   "metadata": {},
   "outputs": [
    {
     "data": {
      "text/plain": [
       "1.0"
      ]
     },
     "execution_count": 11,
     "metadata": {},
     "output_type": "execute_result"
    }
   ],
   "source": [
    "value(x)"
   ]
  },
  {
   "cell_type": "code",
   "execution_count": 12,
   "metadata": {},
   "outputs": [
    {
     "data": {
      "text/plain": [
       "0.0"
      ]
     },
     "execution_count": 12,
     "metadata": {},
     "output_type": "execute_result"
    }
   ],
   "source": [
    "value(y)"
   ]
  },
  {
   "cell_type": "markdown",
   "metadata": {},
   "source": []
  },
  {
   "cell_type": "code",
   "execution_count": null,
   "metadata": {},
   "outputs": [],
   "source": []
  }
 ],
 "metadata": {
  "kernelspec": {
   "display_name": "Python 3",
   "language": "python",
   "name": "python3"
  },
  "language_info": {
   "codemirror_mode": {
    "name": "ipython",
    "version": 3
   },
   "file_extension": ".py",
   "mimetype": "text/x-python",
   "name": "python",
   "nbconvert_exporter": "python",
   "pygments_lexer": "ipython3",
   "version": "3.8.3"
  }
 },
 "nbformat": 4,
 "nbformat_minor": 4
}
