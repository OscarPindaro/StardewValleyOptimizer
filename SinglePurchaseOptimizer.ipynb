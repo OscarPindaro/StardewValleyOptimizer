{
 "cells": [
  {
   "cell_type": "markdown",
   "metadata": {},
   "source": [
    "# Optimizing Stardew Valley Purchases with Linear Programming"
   ]
  },
  {
   "cell_type": "markdown",
   "metadata": {},
   "source": [
    "## Introduction"
   ]
  },
  {
   "cell_type": "markdown",
   "metadata": {},
   "source": [
    "Stardew Valley is a managerial game in which the protagonist is the owner of a farm. Here, far far away from the chaothic city, the player can plant different seeds and harvest all the goods that is able to produce. The player can also manage a ranch or some other activities. <br>\n",
    "While playing, at some point during the game play, in everyone's mind an eternal question popped:<br>\n",
    "\"*How can i become the richest farmer in Pellican Town and marry that hot chick, Leah?*\"<br>\n",
    "\n",
    "In this notebook we will see how to optimize all the purchases that the player will make while buying seeds, applying some sweet sweet **Linear Programming**.\n",
    "\n",
    "![Leah](resources/leah.png)"
   ]
  },
  {
   "cell_type": "markdown",
   "metadata": {},
   "source": [
    "## Modelization\n",
    "In stardew valley, every plant can be bought in an emporium for a given cost. Every crop has a different price and different growing time. When a crop has completed its growing cycle, it can be harvested and sold, generating a revanue.<br>\n",
    "In this context, different resources must be considered.\n",
    "- *money* - Someone said somewhere:\n",
    "    >The person who doesn't know where his next dollar is coming from usually doesn't know where his last dollar went.\n",
    "    >\n",
    "    Of course money is a resource. We have little money, and we want to make a lot of money. The game starts with a very very small amount, and it's our duty to harvest it and become richer and richer (and marry Leah).\n",
    "    \n",
    "- *space* - The space that we have at our disposal in the farm it's not infinite. Every crop will use one tile, and sometimes this space must be sacrified for other objects like scarerows or splinkers. Sadly, every penny in the world is not enough when no space can be used.\n",
    "\n",
    "- *time* - I imagine that somewhere in the internet there's another good quote, but i'm too lazy. In Stardew Calley, time is essential, since every crop needs several days to complete its growth cycle. However, there is another limitation. The year is divided in 4 months of 28 days, one for each season. Every season has a set of allowed plants that can grow; if a green cabbage plant lasts till the end of the spring, it will be atrociously killed by the mighty spears of the summer Sun.\n"
   ]
  },
  {
   "cell_type": "markdown",
   "metadata": {},
   "source": [
    "### Elements of the modelization\n",
    "\n",
    "#### Constants\n",
    "$P$ : the set of all the cultures. $p_{i}$ is the $i$-th crop<br>\n",
    "$N$ : the number of available tiles <br>\n",
    "$D$ : number of days available <br>\n",
    "$M$ : total amount of money available <br>\n",
    "\n",
    "$t_{i}$: time needed by the $i$-th culture to grow <br>\n",
    "$c_{i}$: cost of the $i$-th culture <br>\n",
    "$r_{i}$: revenue of the $i$-th culture <br>\n",
    "$\\beta_{i}$ : days needed for products to regrow. If the crop does not regraw, it's set to -1<br>\n",
    "\n",
    "**if** $\\beta_{i} \\neq -1$<br> \n",
    "$\\alpha_{i} = \\lfloor\\frac{D}{\\beta_{i}}\\rfloor$ : number of times that a crop will produce in the D days<br>\n",
    "**else** $\\alpha=1$\n",
    "\n",
    "$max_{i}$: maximum number of seeds allowed for the culture <br>\n",
    "$min_{i}$: minimum number of seeds allowed for the culture <br>\n",
    "These two can be set to $+\\infty$ and $0$, but can also be used in order to have some diversifiaction. <br>\n",
    "\n",
    "#### Variables\n",
    "$x_{i}$: amount of the $i$-th culture that needs to be purchased. \n",
    "\n",
    "#### Objective function\n",
    "*maximize* $\\pi = \\sum_{i \\in P}\\alpha_{i} r_{i}x_{i} - \\sum_{i \\in P}c_{i}x_{i}$ \n",
    "\n",
    "#### Constaints\n",
    "**tile availablity**; &nbsp; *the number of products cannot exceed the number of plantable tiles*<br>\n",
    "$\\sum_{i \\in P}x_{i} \\leq N$<br>\n",
    "\n",
    "**time horizon constraint**; *If there is not enough time for this culture, it should not be planted*<br>\n",
    " **if** $t_{i} > D \\rightarrow x_{i} = 0$\n",
    "\n",
    "**total cost constraint**; *The total cost cannot exceed the total amount of money owned*\n",
    "$\\sum_{i \\in P}c_{i}x_{i} \\leq M$ \n",
    "\n",
    " *the real problem is integer, but can be relaxed to linear if the amount of money is much larger*<br>\n",
    "$\\forall i \\in P$ &nbsp; $x_{i} \\geq 0, \\in Natural Numbers$"
   ]
  },
  {
   "cell_type": "markdown",
   "metadata": {},
   "source": [
    "## Code of the optimizer"
   ]
  },
  {
   "cell_type": "markdown",
   "metadata": {},
   "source": [
    "The following class is ued to store all the information regarding a crop, such buy cost, sell cost, growth time and season in which the seed can be planted. The following lines of code retrieve these information from a JSON file."
   ]
  },
  {
   "cell_type": "code",
   "execution_count": 1,
   "metadata": {},
   "outputs": [],
   "source": [
    "class Crop:\n",
    "    \n",
    "    def __init__(self, name, buyCost, sellCost, growthTime):\n",
    "        self.name = name\n",
    "        self.buyCost = buyCost\n",
    "        self.sellCost=sellCost\n",
    "        self.growthTime = growthTime\n",
    "        self.seasons = []\n",
    "        self.regrow=-1\n",
    "    \n",
    "    def addSeason(self, season):\n",
    "        self.seasons= self.seasons +(season)\n",
    "        \n",
    "    def setRegrowTime(self, regrow):\n",
    "        self.regrow = regrow;\n",
    "        \n",
    "    def __str__(self):\n",
    "        stringa =\"Name={}\\nBuy={}\\nSell={}\\ngrothTime={}\".format(self.name, self.buyCost, self.sellCost, self.growthTime)\n",
    "        if(self.regrow != -1):\n",
    "            stringa= stringa +(\"\\nregrow=\" + str(self.regrow))\n",
    "        stringa = stringa + \"\\nseasons:\" + str(self.seasons)\n",
    "        return stringa"
   ]
  },
  {
   "cell_type": "code",
   "execution_count": 2,
   "metadata": {},
   "outputs": [],
   "source": [
    "import json \n",
    "from math import *\n",
    "from pulp import *"
   ]
  },
  {
   "cell_type": "code",
   "execution_count": 3,
   "metadata": {},
   "outputs": [],
   "source": [
    "jsonFile = open(\"resources/stardewConfig.json\", \"r\")\n",
    "data = json.load(jsonFile)\n",
    "\n",
    "crops = data.get(\"crops\") "
   ]
  },
  {
   "cell_type": "code",
   "execution_count": 4,
   "metadata": {},
   "outputs": [],
   "source": [
    "cropList = []\n",
    "for crop in crops:\n",
    "    x = Crop(crop.get(\"name\"), crop.get(\"buy\"), crop.get(\"sell\"), sum([x for x in crop.get(\"stages\")]))\n",
    "    if(crop.get(\"regrow\")):\n",
    "        x.setRegrowTime(crop.get(\"regrow\"))\n",
    "    x.addSeason(crop.get(\"seasons\"))    \n",
    "    cropList.append(x)\n",
    "    #print(x)\n",
    "    #print(\"\\n\")"
   ]
  },
  {
   "cell_type": "markdown",
   "metadata": {},
   "source": [
    "The followings are the input of the program.\n",
    "\n",
    "$N$ : the number of available tiles <br>\n",
    "$D$ : number of days available <br>\n",
    "$M$ : total amount of money available <br>"
   ]
  },
  {
   "cell_type": "code",
   "execution_count": 5,
   "metadata": {},
   "outputs": [],
   "source": [
    "D = 30\n",
    "N = 120\n",
    "M = 10000"
   ]
  },
  {
   "cell_type": "markdown",
   "metadata": {},
   "source": [
    "**if** $\\beta_{i} \\neq -1$<br> \n",
    "$\\alpha_{i} = \\lfloor\\frac{D}{\\beta_{i}}\\rfloor$ : number of times that a crop will produce in the D days<br>\n",
    "**else** $\\alpha=1$"
   ]
  },
  {
   "cell_type": "code",
   "execution_count": 6,
   "metadata": {},
   "outputs": [],
   "source": [
    "alpha= {}\n",
    "for crop in cropList:\n",
    "    if crop.regrow == -1:\n",
    "        alpha[crop.name] =1\n",
    "    else:\n",
    "        alpha[crop.name] = floor(D/crop.regrow)\n",
    "    "
   ]
  },
  {
   "cell_type": "markdown",
   "metadata": {},
   "source": [
    "Creation of the variables. The name of the variable is the name of the crop."
   ]
  },
  {
   "cell_type": "code",
   "execution_count": 7,
   "metadata": {},
   "outputs": [],
   "source": [
    "variables = {}\n",
    "for crop in cropList:\n",
    "    variables[crop.name]= LpVariable(crop.name, 0, cat=\"Integer\")\n",
    "    "
   ]
  },
  {
   "cell_type": "code",
   "execution_count": 8,
   "metadata": {},
   "outputs": [],
   "source": [
    "prob = LpProblem(\"ProfitMaximization\", LpMaximize)"
   ]
  },
  {
   "cell_type": "markdown",
   "metadata": {},
   "source": [
    "*maximize* $\\pi = \\sum_{i \\in P}\\alpha_{i} r_{i}x_{i} - \\sum_{i \\in P}c_{i}x_{i}$ "
   ]
  },
  {
   "cell_type": "code",
   "execution_count": 9,
   "metadata": {},
   "outputs": [],
   "source": [
    "prob += lpSum([alpha[x.name]*x.sellCost*variables[x.name] for x in cropList]) -lpSum([x.buyCost*variables[x.name] for x in cropList])"
   ]
  },
  {
   "cell_type": "markdown",
   "metadata": {},
   "source": [
    "**tile availablity**<br>\n",
    "$\\sum_{i \\in P}x_{i} \\leq N$<br>"
   ]
  },
  {
   "cell_type": "code",
   "execution_count": 10,
   "metadata": {},
   "outputs": [],
   "source": [
    "prob += lpSum([variables[x.name] for x in cropList]) <= N"
   ]
  },
  {
   "cell_type": "markdown",
   "metadata": {},
   "source": [
    "**time horizon constraint**<br>\n",
    " **if** $t_{i} > D \\rightarrow x_{i} = 0$"
   ]
  },
  {
   "cell_type": "code",
   "execution_count": 11,
   "metadata": {},
   "outputs": [],
   "source": [
    "for crop in cropList:\n",
    "    if(crop.growthTime > D):\n",
    "        prob += variables[crop.name] == 0"
   ]
  },
  {
   "cell_type": "markdown",
   "metadata": {},
   "source": [
    "**total cost constraint**<br>\n",
    "$\\sum_{i \\in P}c_{i}x_{i} \\leq M$ \n"
   ]
  },
  {
   "cell_type": "code",
   "execution_count": 12,
   "metadata": {},
   "outputs": [],
   "source": [
    "prob += lpSum([x.buyCost*variables[x.name] for x in cropList]) <= M"
   ]
  },
  {
   "cell_type": "code",
   "execution_count": 13,
   "metadata": {},
   "outputs": [],
   "source": [
    "status = prob.solve()"
   ]
  },
  {
   "cell_type": "code",
   "execution_count": 14,
   "metadata": {},
   "outputs": [
    {
     "data": {
      "text/plain": [
       "1"
      ]
     },
     "execution_count": 14,
     "metadata": {},
     "output_type": "execute_result"
    }
   ],
   "source": [
    "status"
   ]
  },
  {
   "cell_type": "code",
   "execution_count": 15,
   "metadata": {},
   "outputs": [
    {
     "data": {
      "text/plain": [
       "'Optimal'"
      ]
     },
     "execution_count": 15,
     "metadata": {},
     "output_type": "execute_result"
    }
   ],
   "source": [
    "LpStatus[status]"
   ]
  },
  {
   "cell_type": "code",
   "execution_count": 16,
   "metadata": {},
   "outputs": [
    {
     "name": "stdout",
     "output_type": "stream",
     "text": [
      "Ancient_Fruit = 4.0\n",
      "Hops = 116.0\n"
     ]
    }
   ],
   "source": [
    "for v in prob.variables():\n",
    "    if value(v)> 0:\n",
    "        print(v.name,\"=\", value(v))"
   ]
  },
  {
   "cell_type": "code",
   "execution_count": 17,
   "metadata": {},
   "outputs": [
    {
     "name": "stdout",
     "output_type": "stream",
     "text": [
      "profit = 86040.0\n"
     ]
    }
   ],
   "source": [
    "print(\"profit =\",value(prob.objective))"
   ]
  },
  {
   "cell_type": "code",
   "execution_count": 18,
   "metadata": {},
   "outputs": [
    {
     "data": {
      "text/plain": [
       "ProfitMaximization:\n",
       "MAXIMIZE\n",
       "1500*Ancient_Fruit + 270*Blueberry + 195*Coffee_Bean + 200*Corn + 690*Hops + 360*Hot_Pepper + 170*Melon + 40*Poppy + 50*Radish + 160*Red_Cabbage + 350*Starfruit + 40*Summer_Spangle + -45*Sunflower + 370*Tomato + 15*Wheat + 0\n",
       "SUBJECT TO\n",
       "_C1: Ancient_Fruit + Blueberry + Coffee_Bean + Corn + Hops + Hot_Pepper\n",
       " + Melon + Poppy + Radish + Red_Cabbage + Starfruit + Summer_Spangle\n",
       " + Sunflower + Tomato + Wheat <= 120\n",
       "\n",
       "_C2: 700 Ancient_Fruit + 80 Blueberry + 30 Coffee_Bean + 150 Corn + 60 Hops\n",
       " + 40 Hot_Pepper + 80 Melon + 100 Poppy + 40 Radish + 100 Red_Cabbage\n",
       " + 400 Starfruit + 50 Summer_Spangle + 125 Sunflower + 50 Tomato + 10 Wheat\n",
       " <= 10000\n",
       "\n",
       "VARIABLES\n",
       "0 <= Ancient_Fruit Integer\n",
       "0 <= Blueberry Integer\n",
       "0 <= Coffee_Bean Integer\n",
       "0 <= Corn Integer\n",
       "0 <= Hops Integer\n",
       "0 <= Hot_Pepper Integer\n",
       "0 <= Melon Integer\n",
       "0 <= Poppy Integer\n",
       "0 <= Radish Integer\n",
       "0 <= Red_Cabbage Integer\n",
       "0 <= Starfruit Integer\n",
       "0 <= Summer_Spangle Integer\n",
       "0 <= Sunflower Integer\n",
       "0 <= Tomato Integer\n",
       "0 <= Wheat Integer"
      ]
     },
     "execution_count": 18,
     "metadata": {},
     "output_type": "execute_result"
    }
   ],
   "source": [
    "prob"
   ]
  }
 ],
 "metadata": {
  "kernelspec": {
   "display_name": "Python 3",
   "language": "python",
   "name": "python3"
  },
  "language_info": {
   "codemirror_mode": {
    "name": "ipython",
    "version": 3
   },
   "file_extension": ".py",
   "mimetype": "text/x-python",
   "name": "python",
   "nbconvert_exporter": "python",
   "pygments_lexer": "ipython3",
   "version": "3.8.3"
  }
 },
 "nbformat": 4,
 "nbformat_minor": 4
}
